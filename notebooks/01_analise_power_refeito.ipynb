{
 "cells": [
  {
   "cell_type": "markdown",
   "id": "e511808f",
   "metadata": {},
   "source": [
    "\n",
    "# Consumo de Energia Residencial (UCI) — Notebook\n",
    "Este caderno resolve, passo a passo, os 20 itens do trabalho usando o dataset **Individual Household Electric Power Consumption**.\n"
   ]
  },
  {
   "cell_type": "markdown",
   "id": "76ae662d",
   "metadata": {},
   "source": [
    "## 0) Setup e carregamento"
   ]
  },
  {
   "cell_type": "code",
   "execution_count": 5,
   "id": "98ebb765",
   "metadata": {},
   "outputs": [
    {
     "name": "stdout",
     "output_type": "stream",
     "text": [
      "Shape: (2075259, 10)\n",
      "Período: 2006-12-16 17:24:00 -> 2010-11-26 21:02:00\n",
      "Anos: [np.int32(2006), np.int32(2007), np.int32(2008), np.int32(2009), np.int32(2010)]\n"
     ]
    }
   ],
   "source": [
    "\n",
    "import pandas as pd\n",
    "import numpy as np\n",
    "import matplotlib.pyplot as plt\n",
    "\n",
    "from sklearn.preprocessing import MinMaxScaler\n",
    "from sklearn.cluster import KMeans\n",
    "from sklearn.model_selection import train_test_split\n",
    "from sklearn.linear_model import LinearRegression\n",
    "from sklearn.metrics import mean_absolute_error, mean_squared_error, r2_score\n",
    "\n",
    "from pathlib import Path\n",
    "NOTEBOOK_DIR = Path().resolve()          # geralmente .../notebooks\n",
    "PROJECT_ROOT = NOTEBOOK_DIR.parent       # sobe para a raiz do repo\n",
    "DATA_FILE = PROJECT_ROOT / \"data\" / \"raw\" / \"household_power_consumption.txt\"\n",
    "\n",
    "df = pd.read_csv(DATA_FILE, sep=\";\", na_values=[\"?\"], low_memory=False, encoding=\"latin-1\")\n",
    "\n",
    "\n",
    "# Index temporal com Date + Time\n",
    "df['DateTime'] = pd.to_datetime(\n",
    "    df['Date'].astype(str) + ' ' + df['Time'].astype(str),\n",
    "    format='%d/%m/%Y %H:%M:%S',\n",
    "    errors='coerce'\n",
    ")\n",
    "df = (df.dropna(subset=['DateTime'])\n",
    "        .set_index('DateTime')\n",
    "        .sort_index())\n",
    "\n",
    "# Converte colunas numéricas\n",
    "num_cols = [\"Global_active_power\",\"Global_reactive_power\",\"Voltage\",\"Global_intensity\",\n",
    "            \"Sub_metering_1\",\"Sub_metering_2\",\"Sub_metering_3\"]\n",
    "df[num_cols] = df[num_cols].apply(pd.to_numeric, errors='coerce')\n",
    "\n",
    "# Colunas úteis\n",
    "df['Date'] = pd.to_datetime(df['Date'], format='%d/%m/%Y', errors='coerce')\n",
    "df['weekday'] = df['Date'].dt.day_name()\n",
    "\n",
    "print(\"Shape:\", df.shape)\n",
    "print(\"Período:\", df.index.min(), \"->\", df.index.max())\n",
    "print(\"Anos:\", sorted(pd.unique(df.index.year)))\n"
   ]
  },
  {
   "cell_type": "markdown",
   "id": "1d55032f",
   "metadata": {},
   "source": [
    "### (1) 10 primeiras linhas"
   ]
  },
  {
   "cell_type": "code",
   "execution_count": 6,
   "id": "0643b338",
   "metadata": {},
   "outputs": [
    {
     "data": {
      "text/html": [
       "<div>\n",
       "<style scoped>\n",
       "    .dataframe tbody tr th:only-of-type {\n",
       "        vertical-align: middle;\n",
       "    }\n",
       "\n",
       "    .dataframe tbody tr th {\n",
       "        vertical-align: top;\n",
       "    }\n",
       "\n",
       "    .dataframe thead th {\n",
       "        text-align: right;\n",
       "    }\n",
       "</style>\n",
       "<table border=\"1\" class=\"dataframe\">\n",
       "  <thead>\n",
       "    <tr style=\"text-align: right;\">\n",
       "      <th></th>\n",
       "      <th>Date</th>\n",
       "      <th>Time</th>\n",
       "      <th>Global_active_power</th>\n",
       "      <th>Global_reactive_power</th>\n",
       "      <th>Voltage</th>\n",
       "      <th>Global_intensity</th>\n",
       "      <th>Sub_metering_1</th>\n",
       "      <th>Sub_metering_2</th>\n",
       "      <th>Sub_metering_3</th>\n",
       "      <th>weekday</th>\n",
       "    </tr>\n",
       "    <tr>\n",
       "      <th>DateTime</th>\n",
       "      <th></th>\n",
       "      <th></th>\n",
       "      <th></th>\n",
       "      <th></th>\n",
       "      <th></th>\n",
       "      <th></th>\n",
       "      <th></th>\n",
       "      <th></th>\n",
       "      <th></th>\n",
       "      <th></th>\n",
       "    </tr>\n",
       "  </thead>\n",
       "  <tbody>\n",
       "    <tr>\n",
       "      <th>2006-12-16 17:24:00</th>\n",
       "      <td>2006-12-16</td>\n",
       "      <td>17:24:00</td>\n",
       "      <td>4.216</td>\n",
       "      <td>0.418</td>\n",
       "      <td>234.84</td>\n",
       "      <td>18.4</td>\n",
       "      <td>0.0</td>\n",
       "      <td>1.0</td>\n",
       "      <td>17.0</td>\n",
       "      <td>Saturday</td>\n",
       "    </tr>\n",
       "    <tr>\n",
       "      <th>2006-12-16 17:25:00</th>\n",
       "      <td>2006-12-16</td>\n",
       "      <td>17:25:00</td>\n",
       "      <td>5.360</td>\n",
       "      <td>0.436</td>\n",
       "      <td>233.63</td>\n",
       "      <td>23.0</td>\n",
       "      <td>0.0</td>\n",
       "      <td>1.0</td>\n",
       "      <td>16.0</td>\n",
       "      <td>Saturday</td>\n",
       "    </tr>\n",
       "    <tr>\n",
       "      <th>2006-12-16 17:26:00</th>\n",
       "      <td>2006-12-16</td>\n",
       "      <td>17:26:00</td>\n",
       "      <td>5.374</td>\n",
       "      <td>0.498</td>\n",
       "      <td>233.29</td>\n",
       "      <td>23.0</td>\n",
       "      <td>0.0</td>\n",
       "      <td>2.0</td>\n",
       "      <td>17.0</td>\n",
       "      <td>Saturday</td>\n",
       "    </tr>\n",
       "    <tr>\n",
       "      <th>2006-12-16 17:27:00</th>\n",
       "      <td>2006-12-16</td>\n",
       "      <td>17:27:00</td>\n",
       "      <td>5.388</td>\n",
       "      <td>0.502</td>\n",
       "      <td>233.74</td>\n",
       "      <td>23.0</td>\n",
       "      <td>0.0</td>\n",
       "      <td>1.0</td>\n",
       "      <td>17.0</td>\n",
       "      <td>Saturday</td>\n",
       "    </tr>\n",
       "    <tr>\n",
       "      <th>2006-12-16 17:28:00</th>\n",
       "      <td>2006-12-16</td>\n",
       "      <td>17:28:00</td>\n",
       "      <td>3.666</td>\n",
       "      <td>0.528</td>\n",
       "      <td>235.68</td>\n",
       "      <td>15.8</td>\n",
       "      <td>0.0</td>\n",
       "      <td>1.0</td>\n",
       "      <td>17.0</td>\n",
       "      <td>Saturday</td>\n",
       "    </tr>\n",
       "    <tr>\n",
       "      <th>2006-12-16 17:29:00</th>\n",
       "      <td>2006-12-16</td>\n",
       "      <td>17:29:00</td>\n",
       "      <td>3.520</td>\n",
       "      <td>0.522</td>\n",
       "      <td>235.02</td>\n",
       "      <td>15.0</td>\n",
       "      <td>0.0</td>\n",
       "      <td>2.0</td>\n",
       "      <td>17.0</td>\n",
       "      <td>Saturday</td>\n",
       "    </tr>\n",
       "    <tr>\n",
       "      <th>2006-12-16 17:30:00</th>\n",
       "      <td>2006-12-16</td>\n",
       "      <td>17:30:00</td>\n",
       "      <td>3.702</td>\n",
       "      <td>0.520</td>\n",
       "      <td>235.09</td>\n",
       "      <td>15.8</td>\n",
       "      <td>0.0</td>\n",
       "      <td>1.0</td>\n",
       "      <td>17.0</td>\n",
       "      <td>Saturday</td>\n",
       "    </tr>\n",
       "    <tr>\n",
       "      <th>2006-12-16 17:31:00</th>\n",
       "      <td>2006-12-16</td>\n",
       "      <td>17:31:00</td>\n",
       "      <td>3.700</td>\n",
       "      <td>0.520</td>\n",
       "      <td>235.22</td>\n",
       "      <td>15.8</td>\n",
       "      <td>0.0</td>\n",
       "      <td>1.0</td>\n",
       "      <td>17.0</td>\n",
       "      <td>Saturday</td>\n",
       "    </tr>\n",
       "    <tr>\n",
       "      <th>2006-12-16 17:32:00</th>\n",
       "      <td>2006-12-16</td>\n",
       "      <td>17:32:00</td>\n",
       "      <td>3.668</td>\n",
       "      <td>0.510</td>\n",
       "      <td>233.99</td>\n",
       "      <td>15.8</td>\n",
       "      <td>0.0</td>\n",
       "      <td>1.0</td>\n",
       "      <td>17.0</td>\n",
       "      <td>Saturday</td>\n",
       "    </tr>\n",
       "    <tr>\n",
       "      <th>2006-12-16 17:33:00</th>\n",
       "      <td>2006-12-16</td>\n",
       "      <td>17:33:00</td>\n",
       "      <td>3.662</td>\n",
       "      <td>0.510</td>\n",
       "      <td>233.86</td>\n",
       "      <td>15.8</td>\n",
       "      <td>0.0</td>\n",
       "      <td>2.0</td>\n",
       "      <td>16.0</td>\n",
       "      <td>Saturday</td>\n",
       "    </tr>\n",
       "  </tbody>\n",
       "</table>\n",
       "</div>"
      ],
      "text/plain": [
       "                          Date      Time  Global_active_power  \\\n",
       "DateTime                                                        \n",
       "2006-12-16 17:24:00 2006-12-16  17:24:00                4.216   \n",
       "2006-12-16 17:25:00 2006-12-16  17:25:00                5.360   \n",
       "2006-12-16 17:26:00 2006-12-16  17:26:00                5.374   \n",
       "2006-12-16 17:27:00 2006-12-16  17:27:00                5.388   \n",
       "2006-12-16 17:28:00 2006-12-16  17:28:00                3.666   \n",
       "2006-12-16 17:29:00 2006-12-16  17:29:00                3.520   \n",
       "2006-12-16 17:30:00 2006-12-16  17:30:00                3.702   \n",
       "2006-12-16 17:31:00 2006-12-16  17:31:00                3.700   \n",
       "2006-12-16 17:32:00 2006-12-16  17:32:00                3.668   \n",
       "2006-12-16 17:33:00 2006-12-16  17:33:00                3.662   \n",
       "\n",
       "                     Global_reactive_power  Voltage  Global_intensity  \\\n",
       "DateTime                                                                \n",
       "2006-12-16 17:24:00                  0.418   234.84              18.4   \n",
       "2006-12-16 17:25:00                  0.436   233.63              23.0   \n",
       "2006-12-16 17:26:00                  0.498   233.29              23.0   \n",
       "2006-12-16 17:27:00                  0.502   233.74              23.0   \n",
       "2006-12-16 17:28:00                  0.528   235.68              15.8   \n",
       "2006-12-16 17:29:00                  0.522   235.02              15.0   \n",
       "2006-12-16 17:30:00                  0.520   235.09              15.8   \n",
       "2006-12-16 17:31:00                  0.520   235.22              15.8   \n",
       "2006-12-16 17:32:00                  0.510   233.99              15.8   \n",
       "2006-12-16 17:33:00                  0.510   233.86              15.8   \n",
       "\n",
       "                     Sub_metering_1  Sub_metering_2  Sub_metering_3   weekday  \n",
       "DateTime                                                                       \n",
       "2006-12-16 17:24:00             0.0             1.0            17.0  Saturday  \n",
       "2006-12-16 17:25:00             0.0             1.0            16.0  Saturday  \n",
       "2006-12-16 17:26:00             0.0             2.0            17.0  Saturday  \n",
       "2006-12-16 17:27:00             0.0             1.0            17.0  Saturday  \n",
       "2006-12-16 17:28:00             0.0             1.0            17.0  Saturday  \n",
       "2006-12-16 17:29:00             0.0             2.0            17.0  Saturday  \n",
       "2006-12-16 17:30:00             0.0             1.0            17.0  Saturday  \n",
       "2006-12-16 17:31:00             0.0             1.0            17.0  Saturday  \n",
       "2006-12-16 17:32:00             0.0             1.0            17.0  Saturday  \n",
       "2006-12-16 17:33:00             0.0             2.0            16.0  Saturday  "
      ]
     },
     "execution_count": 6,
     "metadata": {},
     "output_type": "execute_result"
    }
   ],
   "source": [
    "df.head(10)"
   ]
  },
  {
   "cell_type": "markdown",
   "id": "65177386",
   "metadata": {},
   "source": [
    "\n",
    "### (2) Diferença: `Global_active_power` x `Global_reactive_power`\n",
    "- **Ativa (kW):** energia que vira trabalho útil (consumo real).\n",
    "- **Reativa (kVAR):** energia que “vai e volta” por conta de campos magnéticos/capacitivos; não faz trabalho útil.\n"
   ]
  },
  {
   "cell_type": "markdown",
   "id": "c32580f8",
   "metadata": {},
   "source": [
    "### (3) Valores ausentes por coluna"
   ]
  },
  {
   "cell_type": "code",
   "execution_count": 7,
   "id": "2b7f1a68",
   "metadata": {},
   "outputs": [
    {
     "data": {
      "text/plain": [
       "Date                         0\n",
       "Time                         0\n",
       "Global_active_power      25979\n",
       "Global_reactive_power    25979\n",
       "Voltage                  25979\n",
       "Global_intensity         25979\n",
       "Sub_metering_1           25979\n",
       "Sub_metering_2           25979\n",
       "Sub_metering_3           25979\n",
       "weekday                      0\n",
       "dtype: int64"
      ]
     },
     "execution_count": 7,
     "metadata": {},
     "output_type": "execute_result"
    }
   ],
   "source": [
    "df.isna().sum()"
   ]
  },
  {
   "cell_type": "markdown",
   "id": "114df59c",
   "metadata": {},
   "source": [
    "### (4) `Date` como datetime e coluna de dia da semana (já criado no setup)"
   ]
  },
  {
   "cell_type": "code",
   "execution_count": null,
   "id": "4cc4e390",
   "metadata": {},
   "outputs": [],
   "source": [
    "df[['Date','weekday']].head()"
   ]
  },
  {
   "cell_type": "markdown",
   "id": "ca27ba40",
   "metadata": {},
   "source": [
    "### (5) 2007: média diária de `Global_active_power`"
   ]
  },
  {
   "cell_type": "code",
   "execution_count": null,
   "id": "03bcac60",
   "metadata": {},
   "outputs": [],
   "source": [
    "\n",
    "df_2007 = df.loc['2007']\n",
    "daily_mean_2007 = df_2007['Global_active_power'].resample('D').mean()\n",
    "daily_mean_2007.head()\n"
   ]
  },
  {
   "cell_type": "markdown",
   "id": "23b71b46",
   "metadata": {},
   "source": [
    "### (6) Gráfico de um dia (linha) — ajuste a data se quiser"
   ]
  },
  {
   "cell_type": "code",
   "execution_count": null,
   "id": "42b67a6f",
   "metadata": {},
   "outputs": [],
   "source": [
    "\n",
    "dia = \"2007-02-02\"\n",
    "serie = df.loc[dia, 'Global_active_power']\n",
    "plt.figure()\n",
    "serie.plot(title=f\"Global_active_power — {dia}\")\n",
    "plt.xlabel(\"Hora\"); plt.ylabel(\"kW\")\n",
    "plt.show()\n"
   ]
  },
  {
   "cell_type": "markdown",
   "id": "d61e43a2",
   "metadata": {},
   "source": [
    "### (7) Histograma de `Voltage` (olhar faixa/caudas)"
   ]
  },
  {
   "cell_type": "code",
   "execution_count": null,
   "id": "dfd73b4a",
   "metadata": {},
   "outputs": [],
   "source": [
    "\n",
    "plt.figure()\n",
    "df['Voltage'].plot(kind='hist', bins=50, edgecolor='black', title='Distribuição de Voltage')\n",
    "plt.xlabel('Volts'); plt.show()\n"
   ]
  },
  {
   "cell_type": "markdown",
   "id": "ed050676",
   "metadata": {},
   "source": [
    "### (8) Média mensal de `Global_active_power` (todo o período)"
   ]
  },
  {
   "cell_type": "code",
   "execution_count": null,
   "id": "16d7c0a3",
   "metadata": {},
   "outputs": [],
   "source": [
    "\n",
    "monthly_mean = df['Global_active_power'].resample('M').mean()\n",
    "monthly_mean.head()\n"
   ]
  },
  {
   "cell_type": "markdown",
   "id": "8569f9a2",
   "metadata": {},
   "source": [
    "### (9) Dia com maior **soma diária** de `Global_active_power`"
   ]
  },
  {
   "cell_type": "code",
   "execution_count": null,
   "id": "5ae976c5",
   "metadata": {},
   "outputs": [],
   "source": [
    "\n",
    "daily_sum = df['Global_active_power'].resample('D').sum(min_count=1)\n",
    "max_day = daily_sum.idxmax()\n",
    "print(\"Dia com maior consumo:\", max_day.date(), \"— soma:\", daily_sum.loc[max_day])\n"
   ]
  },
  {
   "cell_type": "markdown",
   "id": "0996679c",
   "metadata": {},
   "source": [
    "### (10) Dias úteis x fim de semana — médias"
   ]
  },
  {
   "cell_type": "code",
   "execution_count": null,
   "id": "38c16697",
   "metadata": {},
   "outputs": [],
   "source": [
    "\n",
    "is_weekend = (df.index.dayofweek >= 5)\n",
    "weekend_mean = df.loc[is_weekend, \"Global_active_power\"].mean()\n",
    "weekday_mean = df.loc[~is_weekend, \"Global_active_power\"].mean()\n",
    "print(\"Fim de semana:\", weekend_mean, \"kW\")\n",
    "print(\"Dias úteis:\", weekday_mean, \"kW\")\n"
   ]
  },
  {
   "cell_type": "markdown",
   "id": "96feeea3",
   "metadata": {},
   "source": [
    "### (11) Correlação entre variáveis principais"
   ]
  },
  {
   "cell_type": "code",
   "execution_count": null,
   "id": "e29cc6be",
   "metadata": {},
   "outputs": [],
   "source": [
    "\n",
    "df[[\"Global_active_power\",\"Global_reactive_power\",\"Voltage\",\"Global_intensity\"]].corr()\n"
   ]
  },
  {
   "cell_type": "markdown",
   "id": "0b69e008",
   "metadata": {},
   "source": [
    "### (12) `Total_Sub_metering = 1 + 2 + 3`"
   ]
  },
  {
   "cell_type": "code",
   "execution_count": null,
   "id": "9dfecf59",
   "metadata": {},
   "outputs": [],
   "source": [
    "\n",
    "df['Total_Sub_metering'] = df[['Sub_metering_1','Sub_metering_2','Sub_metering_3']].sum(axis=1)\n",
    "df['Total_Sub_metering'].head()\n"
   ]
  },
  {
   "cell_type": "markdown",
   "id": "3aa85f66",
   "metadata": {},
   "source": [
    "### (13) Meses em que `Total_Sub_metering` (média) > `Global_active_power` (média)"
   ]
  },
  {
   "cell_type": "code",
   "execution_count": null,
   "id": "d140eb1e",
   "metadata": {},
   "outputs": [],
   "source": [
    "\n",
    "m_total = df['Total_Sub_metering'].resample('M').mean()\n",
    "m_gap   = df['Global_active_power'].resample('M').mean()\n",
    "months_over = (m_total > m_gap)\n",
    "months_over[months_over]\n"
   ]
  },
  {
   "cell_type": "markdown",
   "id": "71dc6e94",
   "metadata": {},
   "source": [
    "### (14) Série de `Voltage` — 2008 (se existir) ou ano disponível"
   ]
  },
  {
   "cell_type": "code",
   "execution_count": null,
   "id": "8364b66b",
   "metadata": {},
   "outputs": [],
   "source": [
    "\n",
    "anos = sorted(pd.unique(df.index.year))\n",
    "year = 2008 if 2008 in anos else anos[-1]  # pega 2008, senão o último ano disponível\n",
    "mask = (df.index.year == year)\n",
    "voltage_year = df.loc[mask, 'Voltage'].resample('D').mean()\n",
    "\n",
    "print(\"Ano usado no gráfico:\", year)\n",
    "plt.figure()\n",
    "voltage_year.plot(title=f\"Voltage — {year} (média diária)\")\n",
    "plt.ylabel(\"Volts\"); plt.xlabel(\"Data\")\n",
    "plt.show()\n"
   ]
  },
  {
   "cell_type": "markdown",
   "id": "42f93ad6",
   "metadata": {},
   "source": [
    "### (15) Verão (JJA) vs Inverno (DJF) — médias de `Global_active_power`"
   ]
  },
  {
   "cell_type": "code",
   "execution_count": null,
   "id": "8f77af61",
   "metadata": {},
   "outputs": [],
   "source": [
    "\n",
    "summer = df[df.index.month.isin([6,7,8])]['Global_active_power'].mean()\n",
    "winter = df[df.index.month.isin([12,1,2])]['Global_active_power'].mean()\n",
    "print(\"Verão (JJA):\", summer, \"kW\")\n",
    "print(\"Inverno (DJF):\", winter, \"kW\")\n"
   ]
  },
  {
   "cell_type": "markdown",
   "id": "b6040755",
   "metadata": {},
   "source": [
    "### (16) Amostra aleatória de 1% e comparação da distribuição"
   ]
  },
  {
   "cell_type": "code",
   "execution_count": null,
   "id": "40dea694",
   "metadata": {},
   "outputs": [],
   "source": [
    "\n",
    "sample = df.sample(frac=0.01, random_state=42)\n",
    "plt.figure()\n",
    "df['Global_active_power'].plot(kind='hist', bins=60, alpha=0.5)\n",
    "sample['Global_active_power'].plot(kind='hist', bins=60, alpha=0.5)\n",
    "plt.legend(['Base completa','Amostra 1%']); plt.show()\n"
   ]
  },
  {
   "cell_type": "markdown",
   "id": "a2680c8b",
   "metadata": {},
   "source": [
    "### (17) Normalização Min–Max (colunas numéricas principais)"
   ]
  },
  {
   "cell_type": "code",
   "execution_count": null,
   "id": "73d44467",
   "metadata": {},
   "outputs": [],
   "source": [
    "\n",
    "cols_scale = [\"Global_active_power\",\"Global_reactive_power\",\"Voltage\",\"Global_intensity\",\n",
    "              \"Sub_metering_1\",\"Sub_metering_2\",\"Sub_metering_3\",\"Total_Sub_metering\"]\n",
    "scaler = MinMaxScaler()\n",
    "df_scaled = df.copy()\n",
    "df_scaled[cols_scale] = scaler.fit_transform(df_scaled[cols_scale])\n",
    "df_scaled[cols_scale].head()\n"
   ]
  },
  {
   "cell_type": "markdown",
   "id": "b15a6257",
   "metadata": {},
   "source": [
    "### (18) K-means (k=3) em médias diárias — perfil dos clusters"
   ]
  },
  {
   "cell_type": "code",
   "execution_count": null,
   "id": "39ab6afd",
   "metadata": {},
   "outputs": [],
   "source": [
    "\n",
    "daily_features = (df[[\"Global_active_power\",\"Global_reactive_power\",\"Voltage\",\"Global_intensity\",\"Total_Sub_metering\"]]\n",
    "                  .resample(\"D\").mean().dropna())\n",
    "\n",
    "scaler_d = MinMaxScaler()\n",
    "X = scaler_d.fit_transform(daily_features)\n",
    "kmeans = KMeans(n_clusters=3, n_init=10, random_state=42)  # n_init=10 por compatibilidade\n",
    "labels = kmeans.fit_predict(X)\n",
    "daily_features[\"cluster\"] = labels\n",
    "\n",
    "print(\"Qtde de dias por cluster:\")\n",
    "print(daily_features[\"cluster\"].value_counts().sort_index())\n",
    "\n",
    "print(\"\\nPerfil médio por cluster:\")\n",
    "daily_features.groupby(\"cluster\").mean().round(3)\n"
   ]
  },
  {
   "cell_type": "markdown",
   "id": "6e9445e4",
   "metadata": {},
   "source": [
    "### (19) Decomposição da série (6 meses) — opcional"
   ]
  },
  {
   "cell_type": "code",
   "execution_count": null,
   "id": "3b6646e5",
   "metadata": {},
   "outputs": [],
   "source": [
    "\n",
    "# Executa só se statsmodels estiver disponível; evita quebrar o notebook.\n",
    "try:\n",
    "    from statsmodels.tsa.seasonal import seasonal_decompose\n",
    "    daily_gap = df['Global_active_power'].resample('D').mean().dropna()\n",
    "    # Jan–Jun do primeiro ano disponível (ou ajuste como quiser)\n",
    "    first_year = int(sorted(pd.unique(daily_gap.index.year))[0])\n",
    "    six_months = daily_gap.loc[f'{first_year}-01':f'{first_year}-06']\n",
    "    res = seasonal_decompose(six_months, model='additive', period=7)\n",
    "    fig = res.plot(); fig.set_size_inches(10,8)\n",
    "    plt.show()\n",
    "except Exception as e:\n",
    "    print(\"Decomposição não executada (statsmodels ausente ou outro motivo):\", e)\n"
   ]
  },
  {
   "cell_type": "markdown",
   "id": "9686896c",
   "metadata": {},
   "source": [
    "### (20) Regressão linear: prever `Global_active_power` usando `Global_intensity`"
   ]
  },
  {
   "cell_type": "code",
   "execution_count": null,
   "id": "77596bc4",
   "metadata": {},
   "outputs": [],
   "source": [
    "\n",
    "# Versão compatível com qualquer scikit-learn\n",
    "X = df[[\"Global_intensity\"]].astype(float).dropna()\n",
    "y = df.loc[X.index, \"Global_active_power\"].astype(float)\n",
    "\n",
    "X_train, X_test, y_train, y_test = train_test_split(X, y, test_size=0.2, random_state=42)\n",
    "lr = LinearRegression().fit(X_train, y_train)\n",
    "pred = lr.predict(X_test)\n",
    "\n",
    "mae = mean_absolute_error(y_test, pred)\n",
    "mse = mean_squared_error(y_test, pred)\n",
    "rmse = np.sqrt(mse)  # sem 'squared=False' para evitar erro de versão\n",
    "r2 = r2_score(y_test, pred)\n",
    "\n",
    "print(\"Coeficiente:\", lr.coef_[0])\n",
    "print(\"Intercepto:\", lr.intercept_)\n",
    "print(\"MAE:\", mae)\n",
    "print(\"RMSE:\", rmse)\n",
    "print(\"R2:\", r2)\n"
   ]
  }
 ],
 "metadata": {
  "kernelspec": {
   "display_name": "anaconda-toolbox",
   "language": "python",
   "name": "python3"
  },
  "language_info": {
   "codemirror_mode": {
    "name": "ipython",
    "version": 3
   },
   "file_extension": ".py",
   "mimetype": "text/x-python",
   "name": "python",
   "nbconvert_exporter": "python",
   "pygments_lexer": "ipython3",
   "version": "3.13.5"
  }
 },
 "nbformat": 4,
 "nbformat_minor": 5
}
